{
    "cells": [
        {
            "cell_type": "markdown",
            "id": "ac622319",
            "metadata": {},
            "source": [
                "# Descriptive statistics problems"
            ]
        },
        {
            "cell_type": "markdown",
            "id": "5e0ab0d5",
            "metadata": {},
            "source": [
                "### Exercise 1\n",
                "\n",
                "We will use NumPy to obtain information to describe statistically.\n",
                "\n",
                "- Generate an array of 100 elements following a normal distribution.\n",
                "- Generate an array of 100 elements following a chi-square distribution with 3 degrees of freedom.\n",
                "- Calculate the main metrics and statistical measures that best describe the two vectors."
            ]
        },
        {
            "cell_type": "code",
            "execution_count": null,
            "id": "34720ab6",
            "metadata": {},
            "outputs": [],
            "source": [
                "# TODO\n",
                "import numpy as np\n",
                "import statistics as stats\n",
                "from scipy.stats import skew\n",
                "from scipy.stats import kurtosis\n",
                "import pandas as pd\n",
                "\n",
                "# Array 100 elementos con distribucion normal\n",
                "distribucion_normal = np.random.normal(size=100)\n",
                "# Array con chi cuadrado\n",
                "chi_cuadrado = np.random.chisquare(3,100)"
            ]
        },
        {
            "cell_type": "code",
            "execution_count": 23,
            "id": "d4e5fbe5",
            "metadata": {},
            "outputs": [
                {
                    "name": "stdout",
                    "output_type": "stream",
                    "text": [
                        "La mediana del array de distribucion normal es 0.025427037650692156\n",
                        "La media del array de distribucion normal es -0.033101826885258076\n",
                        "La mediana del array de chi cuadrado es 2.697753199291724\n",
                        "La media del array de chi cuadrado es 3.3550998002723906\n",
                        "La desviacion tipica del array con distribucion normal es 0.8865043149062184 y la desviacion tipica del array con chi cuadrado es2.9053405009032494\n",
                        "La varianza del array con distribucion normal es 0.7858899003473435y la varianza del array con chi cuadrado es8.441003426188743\n",
                        "Los valores maximos respectivamente para el array normal y para el array con chi cuadrado son: 2.4847799009454805 y 14.589610769931431\n",
                        "Los valores minimos respectivamente para el array normal y para el array con chi cuadrado son: -2.277624729543543 y 0.1592052866769346\n"
                    ]
                }
            ],
            "source": [
                "# Calcular media y mediana\n",
                "Mediana_normal = stats.median(distribucion_normal)\n",
                "Mediana_chi = stats.median(chi_cuadrado)\n",
                "\n",
                "Media_normal = stats.mean(distribucion_normal)\n",
                "Media_chi = stats.mean(chi_cuadrado)\n",
                "\n",
                "# Calcular desviacion tipica y varianza\n",
                "\n",
                "Var_normal = stats.variance(distribucion_normal)\n",
                "Var_chi = stats.variance(chi_cuadrado)\n",
                "\n",
                "Desv_normal = stats.stdev(distribucion_normal)\n",
                "Desv_chi = stats.stdev(chi_cuadrado)\n",
                "\n",
                "# Calcular minimos y maximos\n",
                "\n",
                "Max_normal = max(distribucion_normal)\n",
                "Min_normal = min(distribucion_normal)\n",
                "\n",
                "Max_chi = max(chi_cuadrado)\n",
                "Min_chi = min(chi_cuadrado)\n",
                "\n",
                "print(f\"La mediana del array de distribucion normal es {Mediana_normal}\")\n",
                "print(f\"La media del array de distribucion normal es {Media_normal}\")\n",
                "\n",
                "print(f\"La mediana del array de chi cuadrado es {Mediana_chi}\")\n",
                "print(f\"La media del array de chi cuadrado es {Media_chi}\")\n",
                "\n",
                "print(f\"La desviacion tipica del array con distribucion normal es {Desv_normal} y la desviacion tipica del array con chi cuadrado es{Desv_chi}\")\n",
                "print(f\"La varianza del array con distribucion normal es {Var_normal}y la varianza del array con chi cuadrado es{Var_chi}\")\n",
                "\n",
                "print(f\"Los valores maximos respectivamente para el array normal y para el array con chi cuadrado son: {Max_normal} y {Max_chi}\")\n",
                "print(f\"Los valores minimos respectivamente para el array normal y para el array con chi cuadrado son: {Min_normal} y {Min_chi}\")"
            ]
        },
        {
            "cell_type": "code",
            "execution_count": null,
            "id": "59672171",
            "metadata": {},
            "outputs": [
                {
                    "name": "stdout",
                    "output_type": "stream",
                    "text": [
                        "El rango del array con distribucion normal es 4.762404630489023\n",
                        "El rango del array con distribucion chi cuadrado es 14.430405483254496\n",
                        "El coeficiente de Kurtosis para el array normal es 0.2111114467741917\n",
                        "El coeficiente de Kurtosis para el array chi cuadrado es 3.108153875026571\n",
                        "El array presenta una distribucion asimetrica positiva\n"
                    ]
                }
            ],
            "source": [
                "# Rangos\n",
                "\n",
                "rango_normal = max(distribucion_normal) - min(distribucion_normal)\n",
                "rango_chi = max(chi_cuadrado) - min(chi_cuadrado)\n",
                "\n",
                "print(f\"El rango del array con distribucion normal es {rango_normal}\")\n",
                "print(f\"El rango del array con distribucion chi cuadrado es {rango_chi}\")\n",
                "\n",
                "# Kurtosis\n",
                "\n",
                "kurt_normal = kurtosis(distribucion_normal)\n",
                "kurt_chi = kurtosis(chi_cuadrado)\n",
                "\n",
                "print(f\"El coeficiente de Kurtosis para el array normal es {kurt_normal}\")\n",
                "print(f\"El coeficiente de Kurtosis para el array chi cuadrado es {kurt_chi}\")\n",
                "\n",
                "# Skewness\n",
                "\n",
                "simetria_normal = skew(distribucion_normal)\n",
                "simetria_chi = skew(chi_cuadrado)\n",
                "\n",
                "# Intuyo que deberia hacerse asi\n",
                "if simetria_normal > 0:\n",
                "    print(f\"El array normal presenta una distribucion asimetrica negativa\")\n",
                "elif simetria_normal == 0:\n",
                "    print(f\"La distribucion es simetrica para el array con distribucion normal\")\n",
                "else:\n",
                "    print(f\"El array presenta una distribucion asimetrica positiva\")\n",
                "\n",
                "print(f\"El coeficiente de simetria para el array con chi cuadrado es {simetria_chi}\")"
            ]
        },
        {
            "cell_type": "markdown",
            "id": "46c70c3d",
            "metadata": {},
            "source": [
                "### Exercise 2\n",
                "\n",
                "Write a Python program to calculate the standard deviation of the following data:\n",
                "\n",
                "```py\n",
                "data = [4, 2, 5, 8, 6]\n",
                "```"
            ]
        },
        {
            "cell_type": "code",
            "execution_count": 4,
            "id": "d590308e",
            "metadata": {},
            "outputs": [
                {
                    "name": "stdout",
                    "output_type": "stream",
                    "text": [
                        "2.0\n"
                    ]
                }
            ],
            "source": [
                "# TODO\n",
                "data = [4, 2, 5, 8, 6]\n",
                "\n",
                "def desviacion (data):\n",
                "    # Calcular la media\n",
                "    media = sum(data) / len(data)\n",
                "    # Cuadrado de las diferencias\n",
                "    difcuadrados = [(x - media) ** 2 for x in data]\n",
                "    varianza = sum(difcuadrados) / len(data)\n",
                "    desviacion_tipica = varianza ** 0.5\n",
                "    return desviacion_tipica\n",
                "\n",
                "print(desviacion(data))\n",
                "\n",
                "\n"
            ]
        }
    ],
    "metadata": {
        "kernelspec": {
            "display_name": "Python 3",
            "language": "python",
            "name": "python3"
        },
        "language_info": {
            "codemirror_mode": {
                "name": "ipython",
                "version": 3
            },
            "file_extension": ".py",
            "mimetype": "text/x-python",
            "name": "python",
            "nbconvert_exporter": "python",
            "pygments_lexer": "ipython3",
            "version": "3.11.4"
        }
    },
    "nbformat": 4,
    "nbformat_minor": 5
}
